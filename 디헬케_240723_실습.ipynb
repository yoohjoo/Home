{
  "nbformat": 4,
  "nbformat_minor": 0,
  "metadata": {
    "colab": {
      "provenance": [],
      "toc_visible": true
    },
    "kernelspec": {
      "name": "python3",
      "display_name": "Python 3"
    },
    "language_info": {
      "name": "python"
    }
  },
  "cells": [
    {
      "cell_type": "markdown",
      "source": [
        "#상관분석"
      ],
      "metadata": {
        "id": "k_Mif9G1sqOB"
      }
    },
    {
      "cell_type": "markdown",
      "source": [
        "### **1. 상관관계 분석의 세 가지 방법(상관관계 분석과 상관계수)**"
      ],
      "metadata": {
        "id": "IjMLvRO53SYj"
      }
    },
    {
      "cell_type": "code",
      "execution_count": null,
      "metadata": {
        "id": "94BT6Pb69GUK"
      },
      "outputs": [],
      "source": [
        "import pandas as pd\n",
        "#리스트에 데이터 삽입하기\n",
        "engListening = [30, 60, 90]\n",
        "engScore = [70, 80, 90]\n",
        "\n",
        "#리스트를 데이터프레임으로 변환하기\n",
        "data = {'engListening':engListening, 'engScore':engScore}\n",
        "df = pd.DataFrame(data)\n",
        "\n",
        "#상관분석 수행하기\n",
        "\n"
      ]
    },
    {
      "cell_type": "code",
      "source": [
        "import matplotlib.pyplot as plt\n",
        "\n",
        "#데이터 추가하기\n",
        "engListening = [30, 60, 90, 31, 32, 69, 92, 99]\n",
        "engScore = [70, 80, 90, 70, 71, 85, 90, 92]\n",
        "data2 = {'engListening':engListening, 'engScore':engScore}\n",
        "df2 = pd.DataFrame(data2)\n",
        "\n",
        "#산점도 그래프의 x좌표와 y좌표 설정하기\n",
        "\n"
      ],
      "metadata": {
        "id": "wVrQbY6YK5Hs"
      },
      "execution_count": null,
      "outputs": []
    },
    {
      "cell_type": "code",
      "source": [
        "#피어슨 상관분석\n",
        "\n"
      ],
      "metadata": {
        "id": "HOFGOqHzRz_5"
      },
      "execution_count": null,
      "outputs": []
    },
    {
      "cell_type": "code",
      "source": [
        "#스피어만 상관분석\n",
        "\n",
        "\n",
        "\n",
        "#켄달 상관분석\n",
        "\n"
      ],
      "metadata": {
        "id": "V4yfebxQWQN2"
      },
      "execution_count": null,
      "outputs": []
    },
    {
      "cell_type": "code",
      "source": [
        "engListening = [30, 60, 90, 31, 32, 69, 92, 99]\n",
        "engReading = [40, 45, 60, 20, 15, 70, 60, 80]\n",
        "engClass = [60, 120, 120, 60, 60, 180, 120, 120]\n",
        "engScore = [70, 80, 90, 70, 71, 85, 90, 92]\n",
        "\n",
        "data3 = {'engListening':engListening, 'engReading':engReading, 'endClass':engClass,\n",
        "         'engScore':engScore}\n",
        "df3 = pd.DataFrame(data3)"
      ],
      "metadata": {
        "id": "e71TTPqlWW5q"
      },
      "execution_count": null,
      "outputs": []
    },
    {
      "cell_type": "code",
      "source": [
        "#피어슨 상관분석\n",
        "\n",
        "\n",
        "\n",
        "#스피어만 상관분석\n",
        "\n",
        "\n",
        "\n",
        "#켄달 상관분석\n",
        "\n"
      ],
      "metadata": {
        "id": "_x0HVW-dW-P6"
      },
      "execution_count": null,
      "outputs": []
    },
    {
      "cell_type": "markdown",
      "source": [
        "### **2. 영어 성적과 수학 성적**"
      ],
      "metadata": {
        "id": "2tddT4CTKP44"
      }
    },
    {
      "cell_type": "code",
      "source": [
        "import pandas as pd\n",
        "\n",
        "data = {'영어':[4, 2, 1, 3, 10, 8, 9, 7, 6, 5],\n",
        "        '수학':[2, 1, 3, 4, 8, 7, 10, 5, 9, 6]}\n",
        "df = pd.DataFrame(data)\n",
        "\n",
        "#영어 성적과 수학 성적 상관관계 분석\n"
      ],
      "metadata": {
        "id": "431lcI5boUuA"
      },
      "execution_count": null,
      "outputs": []
    },
    {
      "cell_type": "markdown",
      "source": [
        "### **3. 기준금리와 부동산 매매가격**"
      ],
      "metadata": {
        "id": "gjVtxVZpKCgQ"
      }
    },
    {
      "cell_type": "code",
      "execution_count": null,
      "metadata": {
        "id": "aUKgP5sCgtGg"
      },
      "outputs": [],
      "source": [
        "import pandas as pd\n",
        "import matplotlib.pyplot as plt\n",
        "\n",
        "realEstate = [83, 83, 83.5, 83.8, 83.9, 83.7, 84.3, 84.6, 85.2, 85.7, 85.7, 85.7, 86.3\n",
        "               , 86.8, 87.4, 87.4, 87.4, 87.4, 87.6, 88.2, 88.8, 89.4, 89.7, 89.9, 90.5\n",
        "               , 91.1, 92, 92.7, 93.3, 93.8, 94.7, 95.4, 96, 96.4, 96.4, 95.8, 95.7\n",
        "               , 95.8, 95.7, 95.7, 95.7, 96, 96.6, 97.2, 98.1, 98.8, 98.9, 98.6, 98.3\n",
        "               , 98.5, 98.7, 98.6, 98.9, 99.4, 100.1, 100.2, 100.3, 100.3, 100, 99.6\n",
        "               , 99.8, 100.1, 100.2, 100.2, 99.9, 99.7, 99.6, 100.8, 102.2, 102.4\n",
        "               , 101.6, 100.8, 100.3, 99.9, 99.2, 99, 98.8, 99.1, 99.6, 99.9, 100.3\n",
        "               , 100.8, 101.7, 102.7, 103.4, 104.7, 105.5, 105.5, 106.3, 108.3, 110.7\n",
        "               , 112, 112.9, 114.4, 117, 119.8, 122.9, 125.1, 126.7, 128.3, 130.5\n",
        "               , 133.4, 136.5, 139.7, 142.3, 143.8, 143, 141.6, 140.7, 140.6, 141.1\n",
        "               , 141.8, 140.5, 139.8, 136.1, 133.4, 130.6, 126.2, 121.1]\n",
        "interestRate = [2.75, 2.75, 2.75, 2.75, 2.5, 2.5, 2.5, 2.5, 2.5, 2.5, 2.5, 2.5, 2.5\n",
        "               , 2.5, 2.5, 2.5, 2.5, 2.5, 2.5, 2.25, 2.25, 2, 2, 2, 2, 2, 1.75, 1.75\n",
        "               , 1.75, 1.5, 1.5, 1.5, 1.5, 1.5, 1.5, 1.5, 1.5, 1.5, 1.5, 1.5, 1.5, 1.25\n",
        "               , 1.25, 1.25, 1.25, 1.25, 1.25, 1.25, 1.25, 1.25, 1.25, 1.25, 1.25, 1.25\n",
        "               , 1.25, 1.25, 1.25, 1.25, 1.5, 1.5, 1.5, 1.5, 1.5, 1.5, 1.5, 1.5, 1.5\n",
        "               , 1.5, 1.5, 1.5, 1.75, 1.75, 1.75, 1.75, 1.75, 1.75, 1.75, 1.75, 1.5\n",
        "               , 1.5, 1.5, 1.25, 1.25, 1.25, 1.25, 1.25, 0.75, 0.75, 0.5, 0.5, 0.5\n",
        "               , 0.5, 0.5, 0.5, 0.5, 0.5, 0.5, 0.5, 0.5, 0.5, 0.5, 0.5, 0.5\n",
        "               , 0.75, 0.75, 0.75, 1, 1, 1.25, 1.25, 1.25, 1.5, 1.75, 1.75, 2.25, 2.5, 2.5\n",
        "               , 3, 3.25]\n",
        "data = {'부동산':realEstate, '금리':interestRate}\n",
        "df = pd.DataFrame(data)"
      ]
    },
    {
      "cell_type": "code",
      "source": [
        "#산포도 그래프로 데이터 표현하기\n",
        "\n"
      ],
      "metadata": {
        "id": "nX6VC_FgsAqE"
      },
      "execution_count": null,
      "outputs": []
    },
    {
      "cell_type": "code",
      "source": [
        "#피어슨 상관분석\n",
        "\n"
      ],
      "metadata": {
        "id": "WW6hUlsqoNry"
      },
      "execution_count": null,
      "outputs": []
    },
    {
      "cell_type": "code",
      "source": [
        "#부동산 지수가 143.8이 될 때까지만 리스트에 데이터 추가하기\n",
        "\n",
        "\n",
        "\n"
      ],
      "metadata": {
        "id": "QDh2yY5-_whR"
      },
      "execution_count": null,
      "outputs": []
    },
    {
      "cell_type": "code",
      "source": [
        "#지수와 금리의 상관관계 분석\n",
        "\n",
        "\n"
      ],
      "metadata": {
        "id": "4ugayxJjtfiq"
      },
      "execution_count": null,
      "outputs": []
    },
    {
      "cell_type": "markdown",
      "source": [
        "### **4. GDP 성장률과 인구수의 상관관계 분석**"
      ],
      "metadata": {
        "id": "ftw3gbfh_dX2"
      }
    },
    {
      "cell_type": "code",
      "execution_count": null,
      "metadata": {
        "id": "b1oIaGGCANDN"
      },
      "outputs": [],
      "source": [
        "import pandas as pd\n",
        "\n",
        "data = {'국가' :['미국', '일본', '영국', '프랑스', '독일', '이탈리아', '캐나다',\n",
        "                '대한민국', '러시아', '중국', '인도', '인도네시아', '아르헨티나',\n",
        "                '브라질', '멕시코', '호주', '남아프리카공화국', '사우디아라비아',\n",
        "                '튀르키예', '유럽연합(EU)'],\n",
        "        'GDP 성장률' :[0.9, 0.6, 0.4, 0.5, 1.1, 1.7, 3.9, 1.4, -3.7, 2.9, 6.3,\n",
        "                    5.01, 5.9, 3.6, 3.5, 5.9, 4.1, 5.4, 3.9, 1.9],\n",
        "        '인구수' :[334, 125, 67.53, 67.65, 83.16, 59.24, 38.44, 51.74, 146, 1412,\n",
        "                1380, 273, 45.81, 213, 126, 25.77, 60.14, 34.11, 84.68, 343]}\n",
        "\n",
        "df = pd.DataFrame(data)\n",
        "print(df)"
      ]
    },
    {
      "cell_type": "code",
      "source": [
        "#상관관계 분석을 위해 수치 데이터만 추출\n",
        "\n"
      ],
      "metadata": {
        "id": "zBLw4GO2Bys7"
      },
      "execution_count": null,
      "outputs": []
    },
    {
      "cell_type": "code",
      "source": [
        "#상관계수 분석\n",
        "\n",
        "\n",
        "\n"
      ],
      "metadata": {
        "id": "WLYdgSzCAt6f"
      },
      "execution_count": null,
      "outputs": []
    },
    {
      "cell_type": "markdown",
      "source": [
        "#회귀분석"
      ],
      "metadata": {
        "id": "Rlxduyb0sueZ"
      }
    },
    {
      "cell_type": "markdown",
      "source": [
        "### **1. 연봉과 직장 만족도**"
      ],
      "metadata": {
        "id": "g3E-NjkfzBmE"
      }
    },
    {
      "cell_type": "code",
      "execution_count": null,
      "metadata": {
        "id": "Lp52TYWiGHqw"
      },
      "outputs": [],
      "source": [
        "import pandas as pd    #정형데이터 데이터프레임 라이브러리\n",
        "import matplotlib.pyplot as plt  #그래프 라이브러리\n",
        "\n",
        "x = [3000, 4200, 4000, 5000, 6000, 3800, 3500, 6200, 3900, 4500]\n",
        "y = [60, 75, 70, 85, 90, 70, 65, 95, 70, 80]\n",
        "data = {'x': x, 'y': y}\n",
        "df = pd.DataFrame(data)  #판다스 데이터프레임\n",
        "df"
      ]
    },
    {
      "cell_type": "code",
      "source": [
        " #산점도 그리기\n"
      ],
      "metadata": {
        "id": "LcrucNdBGAHQ"
      },
      "execution_count": null,
      "outputs": []
    },
    {
      "cell_type": "code",
      "source": [
        "#회귀분석 패키지 라이브러리\n",
        "\n",
        "\n",
        "\n",
        "#회귀분석\n",
        "\n",
        "\n"
      ],
      "metadata": {
        "id": "4gM4-rLN1yBy"
      },
      "execution_count": null,
      "outputs": []
    },
    {
      "cell_type": "markdown",
      "source": [
        "### **2. 직장 만족도의 요인 분석**"
      ],
      "metadata": {
        "id": "g6_rDj1r5Eta"
      }
    },
    {
      "cell_type": "code",
      "source": [
        "#선형회귀분석을 위한 라이브러리\n",
        "\n"
      ],
      "metadata": {
        "id": "VLMFl_mUu5UT"
      },
      "execution_count": null,
      "outputs": []
    },
    {
      "cell_type": "code",
      "source": [
        "salary = [3000, 4200, 4000, 5000, 6000, 3800, 3500, 6200, 3900, 4500]\n",
        "breakTime = [120, 60, 100, 100, 50, 120, 90, 40, 120, 120]\n",
        "workingTime = [8, 6, 10, 8, 10, 10, 9, 7, 8, 9]\n",
        "companySatisfaction = [60, 75, 70, 85, 90, 70, 65, 95, 70, 80]\n",
        "\n",
        "data = {'salary': salary, 'breakTime': breakTime, 'workingTime': workingTime,\n",
        "        'companySatisfaction': companySatisfaction}\n",
        "df = pd.DataFrame(data)\n",
        "print(df)\n"
      ],
      "metadata": {
        "id": "PjddH38KzA3K"
      },
      "execution_count": null,
      "outputs": []
    },
    {
      "cell_type": "code",
      "source": [
        "#회귀분석\n",
        "\n",
        "\n"
      ],
      "metadata": {
        "id": "xAAt2_Z7uPeN"
      },
      "execution_count": null,
      "outputs": []
    },
    {
      "cell_type": "markdown",
      "source": [
        "### **3. 로지스틱 회귀분석의 해석**"
      ],
      "metadata": {
        "id": "PB3nVEWQ5ckR"
      }
    },
    {
      "cell_type": "code",
      "source": [
        "#로지스틱회귀분석을 위한 라이브러리\n"
      ],
      "metadata": {
        "id": "Uj_MDB-vvHxx"
      },
      "execution_count": null,
      "outputs": []
    },
    {
      "cell_type": "code",
      "execution_count": null,
      "metadata": {
        "id": "mqzE_olMlX8i"
      },
      "outputs": [],
      "source": [
        "import pandas as pd\n",
        "import numpy as np\n",
        "\n",
        "sales = [1, 1, 1, 1, 1, 1, 1, 1, 1, 0, 0, 0, 0, 0, 0, 0, 0]\n",
        "price = [1500, 2000, 5000, 3000, 3500, 2500, 4000, 4500, 3000,\\\n",
        "         4500, 4000, 4500, 5500, 6500, 5000, 3500, 7000]\n",
        "data = {'sales': sales, 'price': price}\n",
        "df = pd.DataFrame(data)\n"
      ]
    },
    {
      "cell_type": "code",
      "source": [
        "#로지스틱 회귀분석\n",
        "\n",
        "\n"
      ],
      "metadata": {
        "id": "X8jsoznkuS6e"
      },
      "execution_count": null,
      "outputs": []
    },
    {
      "cell_type": "markdown",
      "source": [
        "### **4. 타이타닉 탑승자 생존여부 예측**"
      ],
      "metadata": {
        "id": "8CceF-UZ5mjC"
      }
    },
    {
      "cell_type": "code",
      "execution_count": null,
      "metadata": {
        "id": "XRKgVeggnNY2"
      },
      "outputs": [],
      "source": [
        "import seaborn as sns\n",
        "\n",
        "titanic = sns.load_dataset('titanic')\n",
        "print(titanic)"
      ]
    },
    {
      "cell_type": "code",
      "source": [
        "#라이브러리\n",
        "\n",
        "\n"
      ],
      "metadata": {
        "id": "e4V8Uv5TnTWe"
      },
      "execution_count": null,
      "outputs": []
    },
    {
      "cell_type": "code",
      "source": [
        "#회귀분석(예측분석)\n",
        "\n",
        "\n",
        "\n",
        "\n"
      ],
      "metadata": {
        "id": "WZkXKIk3vT5L"
      },
      "execution_count": null,
      "outputs": []
    }
  ]
}