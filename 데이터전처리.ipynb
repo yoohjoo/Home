{
 "cells": [
  {
   "cell_type": "markdown",
   "metadata": {
    "id": "a8UL1ExEPtHk"
   },
   "source": [
    "### **1. 지하수 데이터 수집**"
   ]
  },
  {
   "cell_type": "code",
   "execution_count": null,
   "metadata": {
    "id": "4hcS3ty-QrSn"
   },
   "outputs": [],
   "source": [
    "#필요한 라이브러리 포함\n",
    "import pandas as pd \n",
    "import numpy as np\n",
    "import matplotlib.pyplot as plt\n",
    "import os\n",
    "import warnings\n",
    "from datetime import datetime, date, time\n",
    "warnings.filterwarnings('ignore')"
   ]
  },
  {
   "cell_type": "code",
   "execution_count": null,
   "metadata": {},
   "outputs": [],
   "source": [
    "#엑셀 데이터 파일 읽어오기\n",
    "data1 = pd.read_excel('./Data/대전태평(암반)/대전태평(암반)_2016_hr.xlsx')\n",
    "data1"
   ]
  },
  {
   "cell_type": "code",
   "execution_count": null,
   "metadata": {},
   "outputs": [],
   "source": [
    "#엑셀 데이터 파일 읽어오기\n",
    "data2 = pd.read_excel('./Data/대전태평(암반)/대전태평(암반)_2015_hr.xlsx')\n",
    "data2"
   ]
  },
  {
   "cell_type": "code",
   "execution_count": null,
   "metadata": {},
   "outputs": [],
   "source": [
    "#데이터 결합\n",
    "data = pd.concat([data1, data2])\n",
    "data = data.reset_index(drop=True)\n",
    "data"
   ]
  },
  {
   "cell_type": "code",
   "execution_count": null,
   "metadata": {
    "colab": {
     "base_uri": "https://localhost:8080/"
    },
    "id": "IvLCAHW2QLva",
    "outputId": "2d713d67-469a-4b1c-834f-101359ea85b2"
   },
   "outputs": [],
   "source": [
    "#데이터 파일 경로와 파일 이름을 리스트로 저장\n",
    "path = './Data/대전태평(암반)/'\n",
    "filelist = os.listdir(path)\n",
    "filelistpy = [file for file in filelist if file.endswith('.xlsx')]\n",
    "filelistpy"
   ]
  },
  {
   "cell_type": "code",
   "execution_count": null,
   "metadata": {
    "colab": {
     "base_uri": "https://localhost:8080/",
     "height": 423
    },
    "id": "gSae3NkUQtik",
    "outputId": "a5279b9b-c85c-4976-dee7-e2d911ad6f46"
   },
   "outputs": [],
   "source": [
    "#파일이름리스트로 파일 여러개를 반복하여 읽어오기\n",
    "df = pd.DataFrame()    #빈 데이터프레임 생성\n",
    "for i in filelistpy:  #파일이름리스트 요소 만큼 읽고 결합 반복\n",
    "  d = pd.read_excel(path + i)\n",
    "  df = pd.concat([df, d])\n",
    "df"
   ]
  },
  {
   "cell_type": "code",
   "execution_count": null,
   "metadata": {
    "colab": {
     "base_uri": "https://localhost:8080/",
     "height": 423
    },
    "id": "16aGFuDqRuug",
    "outputId": "61ef4c31-10d5-46dc-f260-86c0b06537af"
   },
   "outputs": [],
   "source": [
    "df = df.reset_index(drop=True)\n",
    "df"
   ]
  },
  {
   "cell_type": "code",
   "execution_count": null,
   "metadata": {
    "colab": {
     "base_uri": "https://localhost:8080/"
    },
    "id": "FBcpe_CVR46H",
    "outputId": "5f07f919-a466-48b1-953b-234d8ddab09f"
   },
   "outputs": [],
   "source": [
    "df.info()"
   ]
  },
  {
   "cell_type": "code",
   "execution_count": null,
   "metadata": {
    "colab": {
     "base_uri": "https://localhost:8080/",
     "height": 175
    },
    "id": "pyjONTAuTAlX",
    "outputId": "df0ac83d-6a4e-4f90-8c7d-eed3db254361",
    "scrolled": true
   },
   "outputs": [],
   "source": [
    "df['Date'] = pd.to_datetime(df['날짜'],format='%Y%m%d') +\\\n",
    "             pd.to_timedelta(df['시간'].astype(int),unit='h')\n",
    "\n",
    "df.set_index(df['Date'], inplace=True)\n",
    "df.head(3)"
   ]
  },
  {
   "cell_type": "code",
   "execution_count": null,
   "metadata": {
    "colab": {
     "base_uri": "https://localhost:8080/",
     "height": 175
    },
    "id": "Vq_ZpE36TAgH",
    "outputId": "c1fe816f-7e20-402d-86ef-17ebabe890cc"
   },
   "outputs": [],
   "source": [
    "df1 = df[['수온(℃)', '수위(el.m)','EC(㎲/㎝)']]\n",
    "df1.columns = ['temp', 'level', 'EC']\n",
    "df1.head(3)"
   ]
  },
  {
   "cell_type": "code",
   "execution_count": null,
   "metadata": {
    "colab": {
     "base_uri": "https://localhost:8080/"
    },
    "id": "Xtl7GaQuwmJP",
    "outputId": "1055a769-bd01-4f42-9d0b-a2d9e2cb81d0"
   },
   "outputs": [],
   "source": [
    "df1.isnull().sum()"
   ]
  },
  {
   "cell_type": "code",
   "execution_count": null,
   "metadata": {
    "id": "cfH6gVFrmoBM"
   },
   "outputs": [],
   "source": [
    "df1.to_csv('./대전지하수.csv', encoding='cp949')"
   ]
  },
  {
   "cell_type": "markdown",
   "metadata": {
    "id": "fS4qUGqu2vuE"
   },
   "source": [
    "### **2. 이상치 확인 및 제거**"
   ]
  },
  {
   "cell_type": "code",
   "execution_count": null,
   "metadata": {
    "colab": {
     "base_uri": "https://localhost:8080/",
     "height": 300
    },
    "id": "yiaAR6r6mvKM",
    "outputId": "ae160748-44f9-469f-9ee4-eb8e3fa61dbb"
   },
   "outputs": [],
   "source": [
    "df = pd.read_csv('./대전지하수.csv', index_col='Date', parse_dates=True, encoding='cp949')\n",
    "df.describe()"
   ]
  },
  {
   "cell_type": "code",
   "execution_count": null,
   "metadata": {
    "colab": {
     "base_uri": "https://localhost:8080/",
     "height": 545
    },
    "id": "iMigMyL8jor_",
    "outputId": "147b191f-4296-4d07-afa5-2f841908fbe0"
   },
   "outputs": [],
   "source": [
    "df.hist(bins=50, figsize=(10,6))\n",
    "plt.show()"
   ]
  },
  {
   "cell_type": "code",
   "execution_count": null,
   "metadata": {
    "colab": {
     "base_uri": "https://localhost:8080/",
     "height": 447
    },
    "id": "nLxCOpqOjoy_",
    "outputId": "bb5951d7-e698-490c-bc0b-b558eefd1c96"
   },
   "outputs": [],
   "source": [
    "df.boxplot()"
   ]
  },
  {
   "cell_type": "code",
   "execution_count": null,
   "metadata": {
    "colab": {
     "base_uri": "https://localhost:8080/",
     "height": 430
    },
    "id": "M6SiJmKL6U71",
    "outputId": "14f00a60-8066-4d19-a223-a50e37284021"
   },
   "outputs": [],
   "source": [
    "plt.subplot(1, 3, 1)\n",
    "df.boxplot(column='temp', return_type='both')\n",
    "plt.subplot(1, 3, 2)\n",
    "df.boxplot(column='level', return_type='both')\n",
    "plt.subplot(1, 3, 3)\n",
    "df.boxplot(column='EC', return_type='both')\n",
    "plt.show()"
   ]
  },
  {
   "cell_type": "code",
   "execution_count": null,
   "metadata": {
    "colab": {
     "base_uri": "https://localhost:8080/",
     "height": 423
    },
    "id": "4tByDhRk79FF",
    "outputId": "1fd0bcfc-3858-4152-99e7-4b206ab02922"
   },
   "outputs": [],
   "source": [
    "#코드 8-24\n",
    "plt.subplot(3, 1, 1)\n",
    "df['temp'].plot()\n",
    "plt.subplot(3, 1, 2)\n",
    "df['level'].plot()\n",
    "plt.subplot(3, 1, 3)\n",
    "df['EC'].plot()\n",
    "plt.show()"
   ]
  },
  {
   "cell_type": "code",
   "execution_count": null,
   "metadata": {
    "colab": {
     "base_uri": "https://localhost:8080/"
    },
    "id": "Rh_yng9D9oEL",
    "outputId": "20e78b8b-b917-4ae7-ad0a-db500995dd46"
   },
   "outputs": [],
   "source": [
    "q3_level = df['level'].quantile(q=0.75)\n",
    "q1_level = df['level'].quantile(q=0.25)\n",
    "iqr_level = q3_level - q1_level\n",
    "print(iqr_level)"
   ]
  },
  {
   "cell_type": "code",
   "execution_count": null,
   "metadata": {
    "colab": {
     "base_uri": "https://localhost:8080/"
    },
    "id": "Wgeve72Z_qB2",
    "outputId": "aa9e4fa8-9a5c-42e8-944d-d783f19aab69"
   },
   "outputs": [],
   "source": [
    "upper_level = q3_level + 1.5 * iqr_level\n",
    "lower_level = q1_level - 1.5 * iqr_level\n",
    "print(upper_level, '/', lower_level)\n",
    "print((df['level'] > upper_level).sum())\n",
    "print((df['level'] < lower_level).sum())"
   ]
  },
  {
   "cell_type": "code",
   "execution_count": null,
   "metadata": {
    "colab": {
     "base_uri": "https://localhost:8080/",
     "height": 439
    },
    "id": "lk42ZZcYP4Fy",
    "outputId": "a4bd1914-c810-469b-845a-7269e52ecb1f"
   },
   "outputs": [],
   "source": [
    "df_iqr_level = df[(df['level'] < upper_level) & (df['level'] > lower_level)]\n",
    "df_iqr_level['level'].plot()"
   ]
  },
  {
   "cell_type": "code",
   "execution_count": null,
   "metadata": {
    "colab": {
     "base_uri": "https://localhost:8080/"
    },
    "id": "PghFCMh3kOzd",
    "outputId": "ace5db2c-1ede-4297-c0d0-a9a7e8f9790e"
   },
   "outputs": [],
   "source": [
    "#사분위수와 IQR 구하기\n",
    "q3_temp = df['temp'].quantile(q=0.75)\n",
    "q1_temp = df['temp'].quantile(q=0.25)\n",
    "iqr_temp = q3_temp-q1_temp\n",
    "print('IQR:', iqr_temp)\n",
    "#지하수온 상한값, 하한값, 이상치 개수 구하기\n",
    "upper_temp = q3_temp + iqr_temp * 1.5\n",
    "lower_temp = q1_temp - iqr_temp * 1.5\n",
    "print(upper_temp, '/', lower_temp)\n",
    "print((df['temp'] > upper_temp).sum())\n",
    "print((df['temp'] < lower_temp).sum())"
   ]
  },
  {
   "cell_type": "code",
   "execution_count": null,
   "metadata": {
    "colab": {
     "base_uri": "https://localhost:8080/"
    },
    "id": "-yQYL3cpkSyM",
    "outputId": "7b2ccb25-61c1-48f7-a721-e2772a17e5d4"
   },
   "outputs": [],
   "source": [
    "#사분위수와 IQR 구하기\n",
    "q3_ec = df['EC'].quantile(q=0.75)\n",
    "q1_ec = df['EC'].quantile(q=0.25)\n",
    "iqr_ec = q3_ec - q1_ec\n",
    "print('IQR:', iqr_ec)\n",
    "#지하수온 상한값, 하한값, 이상치 개수 구하기\n",
    "upper_ec = q3_ec + iqr_ec * 1.5\n",
    "lower_ec = q1_ec - iqr_ec * 1.5\n",
    "print(upper_ec, '/', lower_ec)\n",
    "print((df['EC'] > upper_ec).sum())\n",
    "print((df['EC'] < lower_ec).sum())"
   ]
  },
  {
   "cell_type": "code",
   "execution_count": null,
   "metadata": {
    "id": "gQ60LA4YkWy_"
   },
   "outputs": [],
   "source": [
    "df_iqr = df[(df['temp'] < upper_temp) & (df['temp'] > lower_temp) &\\\n",
    "            (df['level'] < upper_level) & (df['level'] > lower_level) &\\\n",
    "             (df['EC'] < upper_ec) & (df['EC'] > lower_ec)]"
   ]
  },
  {
   "cell_type": "code",
   "execution_count": null,
   "metadata": {
    "colab": {
     "base_uri": "https://localhost:8080/",
     "height": 300
    },
    "id": "vN_zvRnnkYsC",
    "outputId": "62ca06a6-4e02-49b1-f63b-48c088712268"
   },
   "outputs": [],
   "source": [
    "df_iqr.describe()"
   ]
  },
  {
   "cell_type": "code",
   "execution_count": null,
   "metadata": {
    "colab": {
     "base_uri": "https://localhost:8080/",
     "height": 545
    },
    "id": "BVcL5MkYkuFr",
    "outputId": "21b3a6c1-0555-4fbd-dd1e-bf1ad356aada"
   },
   "outputs": [],
   "source": [
    "df_iqr.hist(bins=50, figsize=(10,6))\n",
    "plt.show()"
   ]
  },
  {
   "cell_type": "code",
   "execution_count": null,
   "metadata": {
    "colab": {
     "base_uri": "https://localhost:8080/",
     "height": 430
    },
    "id": "8t2fHwJckwR9",
    "outputId": "f6af3a12-930a-4920-c72d-75a523250f56"
   },
   "outputs": [],
   "source": [
    "plt.subplot(1, 3, 1)\n",
    "df_iqr.boxplot(column='temp', return_type='both')\n",
    "plt.subplot(1, 3, 2)\n",
    "df_iqr.boxplot(column='level', return_type='both')\n",
    "plt.subplot(1, 3, 3)\n",
    "df_iqr.boxplot(column='EC', return_type='both')\n",
    "plt.show()"
   ]
  },
  {
   "cell_type": "code",
   "execution_count": null,
   "metadata": {
    "colab": {
     "base_uri": "https://localhost:8080/",
     "height": 423
    },
    "id": "WGygVd6XkyGn",
    "outputId": "23fa5b04-ec50-4ee9-dae9-bf0c5771096a"
   },
   "outputs": [],
   "source": [
    "plt.subplot(3, 1, 1)\n",
    "df_iqr['temp'].plot()\n",
    "plt.subplot(3, 1, 2)\n",
    "df_iqr['level'].plot()\n",
    "plt.subplot(3, 1, 3)\n",
    "df_iqr['EC'].plot()\n",
    "plt.show()"
   ]
  },
  {
   "cell_type": "code",
   "execution_count": null,
   "metadata": {
    "id": "FVDeTGO8k1Ep"
   },
   "outputs": [],
   "source": [
    "df_iqr.to_csv('대전지하수_정제.csv', encoding='cp949')"
   ]
  },
  {
   "cell_type": "markdown",
   "metadata": {
    "id": "IIwu-WjMnX8y"
   },
   "source": [
    "### **3. 표준화와 정규화**"
   ]
  },
  {
   "cell_type": "code",
   "execution_count": null,
   "metadata": {
    "colab": {
     "base_uri": "https://localhost:8080/",
     "height": 206
    },
    "id": "druRtDZok2Iw",
    "outputId": "a51b1436-b6a2-4c67-a08c-30372a1d6d39"
   },
   "outputs": [],
   "source": [
    "\n",
    "import pandas as pd\n",
    "import numpy as np\n",
    "import matplotlib.pyplot as plt\n",
    "\n",
    "df = pd.read_csv('./대전지하수_정제.csv')\n",
    "df.head()"
   ]
  },
  {
   "cell_type": "code",
   "execution_count": null,
   "metadata": {
    "colab": {
     "base_uri": "https://localhost:8080/",
     "height": 300
    },
    "id": "fMBFhjVKk3P-",
    "outputId": "ff72334e-1296-4109-c810-6537cfb5cca2"
   },
   "outputs": [],
   "source": [
    "df = df[['level', 'EC']]\n",
    "df.describe()"
   ]
  },
  {
   "cell_type": "code",
   "execution_count": null,
   "metadata": {
    "colab": {
     "base_uri": "https://localhost:8080/",
     "height": 452
    },
    "id": "1O4I-MYnk5RB",
    "outputId": "4496e5fc-a82a-49a5-fe02-52caf6765178"
   },
   "outputs": [],
   "source": [
    "df.hist()\n",
    "plt.show()"
   ]
  },
  {
   "cell_type": "code",
   "execution_count": null,
   "metadata": {
    "colab": {
     "base_uri": "https://localhost:8080/",
     "height": 143
    },
    "id": "PmcqFGO8k77H",
    "outputId": "d47d8fd1-37a0-4b6d-ade6-a05a8a991c44"
   },
   "outputs": [],
   "source": [
    "df1 = df.copy()\n",
    "df1.head(3)"
   ]
  },
  {
   "cell_type": "code",
   "execution_count": null,
   "metadata": {
    "colab": {
     "base_uri": "https://localhost:8080/",
     "height": 143
    },
    "id": "pHQ_V_Sjk8_c",
    "outputId": "b38ed5f3-44b5-438d-f1ff-1fbd791055af"
   },
   "outputs": [],
   "source": [
    "df1['level_z_score'] = (df1['level'] - df1['level'].mean()) / df1['level'].std()\n",
    "df1['EC_z_score'] = (df1['EC'] - df1['EC'].mean()) / df1['EC'].std()\n",
    "df1.head(3)"
   ]
  },
  {
   "cell_type": "code",
   "execution_count": null,
   "metadata": {
    "colab": {
     "base_uri": "https://localhost:8080/",
     "height": 300
    },
    "id": "0TVljqfYlA9z",
    "outputId": "44e78887-611f-4864-f34a-d16ff156bbca"
   },
   "outputs": [],
   "source": [
    "\n",
    "df1.describe()"
   ]
  },
  {
   "cell_type": "code",
   "execution_count": null,
   "metadata": {
    "colab": {
     "base_uri": "https://localhost:8080/",
     "height": 468
    },
    "id": "jd0CM7LnlA4X",
    "outputId": "7ca9bc9c-2e0a-4f65-9f71-8a925ce5fc53"
   },
   "outputs": [],
   "source": [
    "df1.hist(figsize=(8,5))\n",
    "plt.show()"
   ]
  },
  {
   "cell_type": "code",
   "execution_count": null,
   "metadata": {
    "colab": {
     "base_uri": "https://localhost:8080/",
     "height": 143
    },
    "id": "mzdO2ayVlAzf",
    "outputId": "0c7cb23e-e620-4240-995d-0576bf48b8f3"
   },
   "outputs": [],
   "source": [
    "df2 = df.copy()\n",
    "df2_standard = (df2-df2.mean()) / df2.std()\n",
    "df2_standard.head(3)"
   ]
  },
  {
   "cell_type": "code",
   "execution_count": null,
   "metadata": {
    "colab": {
     "base_uri": "https://localhost:8080/",
     "height": 143
    },
    "id": "NAIH4QpxlFce",
    "outputId": "3cd0179e-f021-4b81-b5d2-2c124fb87120"
   },
   "outputs": [],
   "source": [
    "df3 = df.copy()\n",
    "\n",
    "df3['level_minmax'] = (df3['level']-df3['level'].min()) / (df3['level'].max()\\\n",
    "                                                           -df3['level'].min())\n",
    "df3['EC_minmax'] = (df3['EC'] - df3['EC'].min()) / (df3['EC'].max() - df3['EC'].min())\n",
    "df3.head(3)"
   ]
  },
  {
   "cell_type": "code",
   "execution_count": null,
   "metadata": {
    "colab": {
     "base_uri": "https://localhost:8080/",
     "height": 300
    },
    "id": "0pTOcoPwlHfJ",
    "outputId": "9de3b544-d176-4460-ebcd-c661682a38bf"
   },
   "outputs": [],
   "source": [
    "df3.describe()"
   ]
  },
  {
   "cell_type": "code",
   "execution_count": null,
   "metadata": {
    "colab": {
     "base_uri": "https://localhost:8080/",
     "height": 545
    },
    "id": "Z04E1t4clKx7",
    "outputId": "88eb4150-c75f-47ed-c315-1b7baa53578c"
   },
   "outputs": [],
   "source": [
    "df3.hist(figsize=(8,6))\n",
    "plt.show()"
   ]
  },
  {
   "cell_type": "code",
   "execution_count": null,
   "metadata": {},
   "outputs": [],
   "source": []
  }
 ],
 "metadata": {
  "colab": {
   "provenance": []
  },
  "kernelspec": {
   "display_name": "Python 3 (ipykernel)",
   "language": "python",
   "name": "python3"
  },
  "language_info": {
   "codemirror_mode": {
    "name": "ipython",
    "version": 3
   },
   "file_extension": ".py",
   "mimetype": "text/x-python",
   "name": "python",
   "nbconvert_exporter": "python",
   "pygments_lexer": "ipython3",
   "version": "3.11.5"
  }
 },
 "nbformat": 4,
 "nbformat_minor": 1
}
